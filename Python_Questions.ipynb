{
  "nbformat": 4,
  "nbformat_minor": 0,
  "metadata": {
    "colab": {
      "provenance": [],
      "authorship_tag": "ABX9TyNi3qtoj4ZIGFfe5F/dJW5D"
    },
    "kernelspec": {
      "name": "python3",
      "display_name": "Python 3"
    },
    "language_info": {
      "name": "python"
    }
  },
  "cells": [
    {
      "cell_type": "code",
      "execution_count": 5,
      "metadata": {
        "colab": {
          "base_uri": "https://localhost:8080/",
          "height": 52
        },
        "id": "q5mpWd-g-WwA",
        "outputId": "488cb28e-a6f8-47a2-ce3e-e7ac220c54ad"
      },
      "outputs": [
        {
          "name": "stdout",
          "output_type": "stream",
          "text": [
            "Enter your Namehani bin faisal\n"
          ]
        },
        {
          "output_type": "execute_result",
          "data": {
            "text/plain": [
              "'Hani Bin Faisal'"
            ],
            "application/vnd.google.colaboratory.intrinsic+json": {
              "type": "string"
            }
          },
          "metadata": {},
          "execution_count": 5
        }
      ],
      "source": [
        "# 1. Write a program that asks the user to enter a string and then prints the string with the first letter of each word capitalized.\n",
        "Name=input(\"Enter your Name\")\n",
        "Name.title()"
      ]
    },
    {
      "cell_type": "code",
      "source": [
        "# 2. Write a program that asks the user to enter a string and then prints the string with the words reversed. For example, \"Hello World\" should become \"olleH dlroW\".\n",
        "user=input(\"Enter your Word: \")\n",
        "s=user.split()\n",
        "s1=s[::-1]\n",
        "s2=\" \".join(s1)\n",
        "print(s2[::-1])"
      ],
      "metadata": {
        "colab": {
          "base_uri": "https://localhost:8080/"
        },
        "id": "_T6Rz2yE-x1g",
        "outputId": "fb82d4ac-4e36-4438-b071-50bafa444ba5"
      },
      "execution_count": 16,
      "outputs": [
        {
          "output_type": "stream",
          "name": "stdout",
          "text": [
            "Enter your Word: Hello World\n",
            "olleH dlroW\n"
          ]
        }
      ]
    },
    {
      "cell_type": "code",
      "source": [
        "# 3. Write a program that asks the user to enter a string and then prints the string with all spaces replaced by underscores.\n",
        "user=input(\"Enter your Name: \")\n",
        "user.replace(\" \",\"_\")"
      ],
      "metadata": {
        "colab": {
          "base_uri": "https://localhost:8080/",
          "height": 52
        },
        "id": "iwyWwukSAWch",
        "outputId": "3545cd22-70db-4b79-8d67-70e0a51a8bcf"
      },
      "execution_count": 8,
      "outputs": [
        {
          "name": "stdout",
          "output_type": "stream",
          "text": [
            "Enter your Name: hani bin faisal\n"
          ]
        },
        {
          "output_type": "execute_result",
          "data": {
            "text/plain": [
              "'hani_bin_faisal'"
            ],
            "application/vnd.google.colaboratory.intrinsic+json": {
              "type": "string"
            }
          },
          "metadata": {},
          "execution_count": 8
        }
      ]
    },
    {
      "cell_type": "code",
      "source": [
        "# 4. Write a program that asks the user to enter a string and then prints the string with the first and last characters swapped.\n",
        "user=input(\"Enter your Name: \")\n",
        "user[-1]+user[1:-1]+user[0]"
      ],
      "metadata": {
        "colab": {
          "base_uri": "https://localhost:8080/",
          "height": 52
        },
        "id": "jk3_1aFSA1IS",
        "outputId": "925f0cb9-fb9a-4903-ae9a-d131fecca5af"
      },
      "execution_count": 18,
      "outputs": [
        {
          "name": "stdout",
          "output_type": "stream",
          "text": [
            "Enter your Name: Goutham K\n"
          ]
        },
        {
          "output_type": "execute_result",
          "data": {
            "text/plain": [
              "'Koutham G'"
            ],
            "application/vnd.google.colaboratory.intrinsic+json": {
              "type": "string"
            }
          },
          "metadata": {},
          "execution_count": 18
        }
      ]
    },
    {
      "cell_type": "code",
      "source": [
        "# 5. Write a program that asks the user to enter a string and then prints the string with all the vowels removed.\n",
        "user=input(\"Enter your Name: \")\n",
        "user=user.lower()\n",
        "user.replace(\"a\",\"\").replace(\"e\",\"\").replace(\"i\",\"\").replace(\"o\",\"\").replace(\"u\",\"\")"
      ],
      "metadata": {
        "colab": {
          "base_uri": "https://localhost:8080/",
          "height": 52
        },
        "id": "dlmsiJKVC8Ai",
        "outputId": "3c8c8e03-3e82-4ba7-d763-2dc8937944c3"
      },
      "execution_count": 20,
      "outputs": [
        {
          "name": "stdout",
          "output_type": "stream",
          "text": [
            "Enter your Name: Jinshan Jithu\n"
          ]
        },
        {
          "output_type": "execute_result",
          "data": {
            "text/plain": [
              "'jnshn jth'"
            ],
            "application/vnd.google.colaboratory.intrinsic+json": {
              "type": "string"
            }
          },
          "metadata": {},
          "execution_count": 20
        }
      ]
    },
    {
      "cell_type": "code",
      "source": [
        "# 6. Write a program that creates a tuple of names and then prints the length of the tuple.\n",
        "a=(\"Goutham\",\"Krishna\",\"Hani\",\"Jinshan\")\n",
        "len(a)"
      ],
      "metadata": {
        "colab": {
          "base_uri": "https://localhost:8080/"
        },
        "id": "JQcnbO8ODd7p",
        "outputId": "85b35820-9465-4a36-aec8-d0a279de01c0"
      },
      "execution_count": 25,
      "outputs": [
        {
          "output_type": "execute_result",
          "data": {
            "text/plain": [
              "4"
            ]
          },
          "metadata": {},
          "execution_count": 25
        }
      ]
    },
    {
      "cell_type": "code",
      "source": [
        "# 7. Concatenate any three dictionaries to create a new one\n",
        "dic1={\"a\":1,\"b\":2}\n",
        "dic2={\"c\":3,\"d\":4}\n",
        "dic3={\"e\":5,\"F\":6}\n",
        "d={**dic1,**dic2,**dic3}\n",
        "d\n",
        "\n"
      ],
      "metadata": {
        "colab": {
          "base_uri": "https://localhost:8080/"
        },
        "id": "SVrB_e3uEroi",
        "outputId": "c5266a7a-b34d-4f69-de3a-771f31d2c102"
      },
      "execution_count": 35,
      "outputs": [
        {
          "output_type": "execute_result",
          "data": {
            "text/plain": [
              "{'a': 1, 'b': 2, 'c': 3, 'd': 4, 'e': 5, 'F': 6}"
            ]
          },
          "metadata": {},
          "execution_count": 35
        }
      ]
    },
    {
      "cell_type": "code",
      "source": [
        "#8. Write a Python program to sum all the values in a dictionary.\n",
        "sum(d.values())"
      ],
      "metadata": {
        "colab": {
          "base_uri": "https://localhost:8080/"
        },
        "id": "_1tiUPVbGrva",
        "outputId": "6fd17ad3-deee-4998-f019-ba3ab6b8349e"
      },
      "execution_count": 36,
      "outputs": [
        {
          "output_type": "execute_result",
          "data": {
            "text/plain": [
              "21"
            ]
          },
          "metadata": {},
          "execution_count": 36
        }
      ]
    },
    {
      "cell_type": "code",
      "source": [
        "#9. Write a Python program to remove duplicates from the dictionary\n",
        "d={\"a\":1,\"b\":2,\"c\":3,\"d\":4,\"d\":4}\n",
        "import pandas as pd\n",
        "df=pd.DataFrame(d,index=[0])\n",
        "df.drop_duplicates()"
      ],
      "metadata": {
        "colab": {
          "base_uri": "https://localhost:8080/",
          "height": 80
        },
        "id": "lQv2Kcq9H8Dj",
        "outputId": "0e98e71a-a373-47b7-e4dc-f54ba0a3a8d1"
      },
      "execution_count": 40,
      "outputs": [
        {
          "output_type": "execute_result",
          "data": {
            "text/plain": [
              "   a  b  c  d\n",
              "0  1  2  3  4"
            ],
            "text/html": [
              "\n",
              "  <div id=\"df-93c6d030-7e4d-4eee-b167-b47c1657fd42\" class=\"colab-df-container\">\n",
              "    <div>\n",
              "<style scoped>\n",
              "    .dataframe tbody tr th:only-of-type {\n",
              "        vertical-align: middle;\n",
              "    }\n",
              "\n",
              "    .dataframe tbody tr th {\n",
              "        vertical-align: top;\n",
              "    }\n",
              "\n",
              "    .dataframe thead th {\n",
              "        text-align: right;\n",
              "    }\n",
              "</style>\n",
              "<table border=\"1\" class=\"dataframe\">\n",
              "  <thead>\n",
              "    <tr style=\"text-align: right;\">\n",
              "      <th></th>\n",
              "      <th>a</th>\n",
              "      <th>b</th>\n",
              "      <th>c</th>\n",
              "      <th>d</th>\n",
              "    </tr>\n",
              "  </thead>\n",
              "  <tbody>\n",
              "    <tr>\n",
              "      <th>0</th>\n",
              "      <td>1</td>\n",
              "      <td>2</td>\n",
              "      <td>3</td>\n",
              "      <td>4</td>\n",
              "    </tr>\n",
              "  </tbody>\n",
              "</table>\n",
              "</div>\n",
              "    <div class=\"colab-df-buttons\">\n",
              "\n",
              "  <div class=\"colab-df-container\">\n",
              "    <button class=\"colab-df-convert\" onclick=\"convertToInteractive('df-93c6d030-7e4d-4eee-b167-b47c1657fd42')\"\n",
              "            title=\"Convert this dataframe to an interactive table.\"\n",
              "            style=\"display:none;\">\n",
              "\n",
              "  <svg xmlns=\"http://www.w3.org/2000/svg\" height=\"24px\" viewBox=\"0 -960 960 960\">\n",
              "    <path d=\"M120-120v-720h720v720H120Zm60-500h600v-160H180v160Zm220 220h160v-160H400v160Zm0 220h160v-160H400v160ZM180-400h160v-160H180v160Zm440 0h160v-160H620v160ZM180-180h160v-160H180v160Zm440 0h160v-160H620v160Z\"/>\n",
              "  </svg>\n",
              "    </button>\n",
              "\n",
              "  <style>\n",
              "    .colab-df-container {\n",
              "      display:flex;\n",
              "      gap: 12px;\n",
              "    }\n",
              "\n",
              "    .colab-df-convert {\n",
              "      background-color: #E8F0FE;\n",
              "      border: none;\n",
              "      border-radius: 50%;\n",
              "      cursor: pointer;\n",
              "      display: none;\n",
              "      fill: #1967D2;\n",
              "      height: 32px;\n",
              "      padding: 0 0 0 0;\n",
              "      width: 32px;\n",
              "    }\n",
              "\n",
              "    .colab-df-convert:hover {\n",
              "      background-color: #E2EBFA;\n",
              "      box-shadow: 0px 1px 2px rgba(60, 64, 67, 0.3), 0px 1px 3px 1px rgba(60, 64, 67, 0.15);\n",
              "      fill: #174EA6;\n",
              "    }\n",
              "\n",
              "    .colab-df-buttons div {\n",
              "      margin-bottom: 4px;\n",
              "    }\n",
              "\n",
              "    [theme=dark] .colab-df-convert {\n",
              "      background-color: #3B4455;\n",
              "      fill: #D2E3FC;\n",
              "    }\n",
              "\n",
              "    [theme=dark] .colab-df-convert:hover {\n",
              "      background-color: #434B5C;\n",
              "      box-shadow: 0px 1px 3px 1px rgba(0, 0, 0, 0.15);\n",
              "      filter: drop-shadow(0px 1px 2px rgba(0, 0, 0, 0.3));\n",
              "      fill: #FFFFFF;\n",
              "    }\n",
              "  </style>\n",
              "\n",
              "    <script>\n",
              "      const buttonEl =\n",
              "        document.querySelector('#df-93c6d030-7e4d-4eee-b167-b47c1657fd42 button.colab-df-convert');\n",
              "      buttonEl.style.display =\n",
              "        google.colab.kernel.accessAllowed ? 'block' : 'none';\n",
              "\n",
              "      async function convertToInteractive(key) {\n",
              "        const element = document.querySelector('#df-93c6d030-7e4d-4eee-b167-b47c1657fd42');\n",
              "        const dataTable =\n",
              "          await google.colab.kernel.invokeFunction('convertToInteractive',\n",
              "                                                    [key], {});\n",
              "        if (!dataTable) return;\n",
              "\n",
              "        const docLinkHtml = 'Like what you see? Visit the ' +\n",
              "          '<a target=\"_blank\" href=https://colab.research.google.com/notebooks/data_table.ipynb>data table notebook</a>'\n",
              "          + ' to learn more about interactive tables.';\n",
              "        element.innerHTML = '';\n",
              "        dataTable['output_type'] = 'display_data';\n",
              "        await google.colab.output.renderOutput(dataTable, element);\n",
              "        const docLink = document.createElement('div');\n",
              "        docLink.innerHTML = docLinkHtml;\n",
              "        element.appendChild(docLink);\n",
              "      }\n",
              "    </script>\n",
              "  </div>\n",
              "\n",
              "\n",
              "    </div>\n",
              "  </div>\n"
            ],
            "application/vnd.google.colaboratory.intrinsic+json": {
              "type": "dataframe",
              "summary": "{\n  \"name\": \"df\",\n  \"rows\": 1,\n  \"fields\": [\n    {\n      \"column\": \"a\",\n      \"properties\": {\n        \"dtype\": \"number\",\n        \"std\": null,\n        \"min\": 1,\n        \"max\": 1,\n        \"num_unique_values\": 1,\n        \"samples\": [\n          1\n        ],\n        \"semantic_type\": \"\",\n        \"description\": \"\"\n      }\n    },\n    {\n      \"column\": \"b\",\n      \"properties\": {\n        \"dtype\": \"number\",\n        \"std\": null,\n        \"min\": 2,\n        \"max\": 2,\n        \"num_unique_values\": 1,\n        \"samples\": [\n          2\n        ],\n        \"semantic_type\": \"\",\n        \"description\": \"\"\n      }\n    },\n    {\n      \"column\": \"c\",\n      \"properties\": {\n        \"dtype\": \"number\",\n        \"std\": null,\n        \"min\": 3,\n        \"max\": 3,\n        \"num_unique_values\": 1,\n        \"samples\": [\n          3\n        ],\n        \"semantic_type\": \"\",\n        \"description\": \"\"\n      }\n    },\n    {\n      \"column\": \"d\",\n      \"properties\": {\n        \"dtype\": \"number\",\n        \"std\": null,\n        \"min\": 4,\n        \"max\": 4,\n        \"num_unique_values\": 1,\n        \"samples\": [\n          4\n        ],\n        \"semantic_type\": \"\",\n        \"description\": \"\"\n      }\n    }\n  ]\n}"
            }
          },
          "metadata": {},
          "execution_count": 40
        }
      ]
    },
    {
      "cell_type": "code",
      "source": [
        "# 10. Write a program that creates a dictionary of numbers and their squares. Print the square of a specific number.\n",
        "square={i:i**2 for i in range(1,11)}\n",
        "square"
      ],
      "metadata": {
        "colab": {
          "base_uri": "https://localhost:8080/"
        },
        "id": "SPDQhcVdIPNT",
        "outputId": "a4df41aa-51e8-4d72-a42c-0e28b8bf0e5a"
      },
      "execution_count": 41,
      "outputs": [
        {
          "output_type": "execute_result",
          "data": {
            "text/plain": [
              "{1: 1, 2: 4, 3: 9, 4: 16, 5: 25, 6: 36, 7: 49, 8: 64, 9: 81, 10: 100}"
            ]
          },
          "metadata": {},
          "execution_count": 41
        }
      ]
    },
    {
      "cell_type": "code",
      "source": [
        "#11. Write a program that creates a dictionary of students and their ages. Print the number of students in the dictionary.\n",
        "Students={\"Name\":[\"Hani\",\"Goutham\",\"Jinshan\"],\"Age\":[19,18,18]}\n",
        "len(Students[\"Name\"])"
      ],
      "metadata": {
        "colab": {
          "base_uri": "https://localhost:8080/"
        },
        "id": "kqoibIJMJk-M",
        "outputId": "53c64a6d-045b-44a0-fac6-4e8d93705376"
      },
      "execution_count": 43,
      "outputs": [
        {
          "output_type": "execute_result",
          "data": {
            "text/plain": [
              "3"
            ]
          },
          "metadata": {},
          "execution_count": 43
        }
      ]
    },
    {
      "cell_type": "code",
      "source": [
        "#12. Write a program that creates a list of numbers, loops through the list using a for loop and the index, and prints each number along with its index.\n",
        "a=[1,2,3,4,5]\n",
        "for i in range(len(a)):\n",
        "    print(i,a[i])"
      ],
      "metadata": {
        "colab": {
          "base_uri": "https://localhost:8080/"
        },
        "id": "hqY8dJ5tLn2L",
        "outputId": "6a81b3e7-83b0-4a52-a0ad-2b0ccd6d19fa"
      },
      "execution_count": 44,
      "outputs": [
        {
          "output_type": "stream",
          "name": "stdout",
          "text": [
            "0 1\n",
            "1 2\n",
            "2 3\n",
            "3 4\n",
            "4 5\n"
          ]
        }
      ]
    },
    {
      "cell_type": "code",
      "source": [
        "#13. Write a program that creates a list of cities, uses the clear() method to empty the list, and then prints the empty list.\n",
        "a=[\"Delhi\",\"Mumbai\",\"Chennai\"]\n",
        "a.clear()\n",
        "a"
      ],
      "metadata": {
        "colab": {
          "base_uri": "https://localhost:8080/"
        },
        "id": "3Pq3J-T_L1qj",
        "outputId": "d1d24911-2f9c-4485-bae3-3082ce9d064b"
      },
      "execution_count": 45,
      "outputs": [
        {
          "output_type": "execute_result",
          "data": {
            "text/plain": [
              "[]"
            ]
          },
          "metadata": {},
          "execution_count": 45
        }
      ]
    },
    {
      "cell_type": "code",
      "source": [
        "#14. Write a program that creates two lists of numbers, extends the first list with the elements of the second list, and then prints the combined list.\n",
        "a=[1,2,3,4,5]\n",
        "b=[6,7,8,9,10,11]\n",
        "print(a+b)\n"
      ],
      "metadata": {
        "colab": {
          "base_uri": "https://localhost:8080/"
        },
        "id": "94YADsWjL98a",
        "outputId": "85045f6b-0494-4d96-f67c-8fa2a2be7874"
      },
      "execution_count": 47,
      "outputs": [
        {
          "output_type": "stream",
          "name": "stdout",
          "text": [
            "[1, 2, 3, 4, 5, 6, 7, 8, 9, 10, 11]\n"
          ]
        }
      ]
    },
    {
      "cell_type": "code",
      "source": [
        "#15. Write a program that asks the user to enter a letter and prints whether the letter is a vowel or a consonant.\n",
        "user=input(\"Enter your Letter: \")\n",
        "if user in \"aeiouAEIOU\":\n",
        "    print(\"Vowel\")\n",
        "else:\n",
        "    print(\"Consonant\")"
      ],
      "metadata": {
        "colab": {
          "base_uri": "https://localhost:8080/"
        },
        "id": "YZu-AR7aMY-D",
        "outputId": "2f1f55c6-2db4-4312-efb3-76d1e9aa96ec"
      },
      "execution_count": 48,
      "outputs": [
        {
          "output_type": "stream",
          "name": "stdout",
          "text": [
            "Enter your Letter: A\n",
            "Vowel\n"
          ]
        }
      ]
    },
    {
      "cell_type": "code",
      "source": [
        "#16. Write a program that asks the user to enter a string and prints whether the string is a palindrome or not.\n",
        "user=input(\"Enter your Word: \")\n",
        "if user==user[::-1]:\n",
        "    print(\"Palindrome\")\n",
        "else:\n",
        "    print(\"Not Palindrome\")"
      ],
      "metadata": {
        "colab": {
          "base_uri": "https://localhost:8080/"
        },
        "id": "EypgxEQoMp8c",
        "outputId": "842ec805-fb82-4ed1-fe2e-b254a78cd054"
      },
      "execution_count": 49,
      "outputs": [
        {
          "output_type": "stream",
          "name": "stdout",
          "text": [
            "Enter your Word: malayalam\n",
            "Palindrome\n"
          ]
        }
      ]
    },
    {
      "cell_type": "code",
      "source": [
        "#17. Write a program that asks the user to enter two numbers and prints the larger of the two numbers.\n",
        "a=int(input(\"Enter your First Number: \"))\n",
        "b=int(input(\"Enter your Second Number: \"))\n",
        "if a>b:\n",
        "    print(a)\n",
        "else:\n",
        "    print(b)"
      ],
      "metadata": {
        "colab": {
          "base_uri": "https://localhost:8080/"
        },
        "id": "hCy8Whz2M2Xj",
        "outputId": "90035914-df15-486f-c8bd-f080e00b4b77"
      },
      "execution_count": 50,
      "outputs": [
        {
          "output_type": "stream",
          "name": "stdout",
          "text": [
            "Enter your First Number: 5\n",
            "Enter your Second Number: 9\n",
            "9\n"
          ]
        }
      ]
    },
    {
      "cell_type": "code",
      "source": [
        "#18. Write a program that uses a while loop to print the multiplication table of a given number up to 10.\n",
        "user=int(input(\"Enter your Number: \"))\n",
        "i=1\n",
        "while i<=10:\n",
        "    print(user*i)\n",
        "    i+=1"
      ],
      "metadata": {
        "colab": {
          "base_uri": "https://localhost:8080/"
        },
        "id": "auiXHUWTM-2L",
        "outputId": "9b37050d-f880-4db7-cb6f-284d5422bc50"
      },
      "execution_count": 52,
      "outputs": [
        {
          "output_type": "stream",
          "name": "stdout",
          "text": [
            "Enter your Number: 5\n",
            "5\n",
            "10\n",
            "15\n",
            "20\n",
            "25\n",
            "30\n",
            "35\n",
            "40\n",
            "45\n",
            "50\n"
          ]
        }
      ]
    },
    {
      "cell_type": "code",
      "source": [
        "#19. Write a program that uses a while loop to print the first 10 even numbers.\n",
        "i=1\n",
        "while i<=20:\n",
        "    if i%2==0:\n",
        "        print(i)\n",
        "    i+=1"
      ],
      "metadata": {
        "colab": {
          "base_uri": "https://localhost:8080/"
        },
        "id": "sFtshB25Nfg8",
        "outputId": "67eaebb8-571a-45e3-c080-e6c21845975f"
      },
      "execution_count": 53,
      "outputs": [
        {
          "output_type": "stream",
          "name": "stdout",
          "text": [
            "2\n",
            "4\n",
            "6\n",
            "8\n",
            "10\n",
            "12\n",
            "14\n",
            "16\n",
            "18\n",
            "20\n"
          ]
        }
      ]
    },
    {
      "cell_type": "code",
      "source": [
        "#20. Write a program that uses a for loop to print each character of a given string.\n",
        "user=input(\"Enter your Word: \")\n",
        "for i in user:\n",
        "    print(i)"
      ],
      "metadata": {
        "colab": {
          "base_uri": "https://localhost:8080/"
        },
        "id": "Xmvxx2PbNlEi",
        "outputId": "ce791c6d-4cbe-41df-fcfa-ec05cd54c60b"
      },
      "execution_count": 54,
      "outputs": [
        {
          "output_type": "stream",
          "name": "stdout",
          "text": [
            "Enter your Word: Hani Bin Faisal\n",
            "H\n",
            "a\n",
            "n\n",
            "i\n",
            " \n",
            "B\n",
            "i\n",
            "n\n",
            " \n",
            "F\n",
            "a\n",
            "i\n",
            "s\n",
            "a\n",
            "l\n"
          ]
        }
      ]
    },
    {
      "cell_type": "code",
      "source": [
        "#21. Write a program that uses a for loop to print all prime numbers between 1 and 50.\n",
        "for i in range(2,51):\n",
        "    for j in range(2,i):\n",
        "        if i%j==0:\n",
        "            break\n",
        "    else:\n",
        "        print(i)"
      ],
      "metadata": {
        "colab": {
          "base_uri": "https://localhost:8080/"
        },
        "id": "8V81IZhfNp2z",
        "outputId": "28036ad4-7fa4-4e73-de05-4cb91c99253b"
      },
      "execution_count": 55,
      "outputs": [
        {
          "output_type": "stream",
          "name": "stdout",
          "text": [
            "2\n",
            "3\n",
            "5\n",
            "7\n",
            "11\n",
            "13\n",
            "17\n",
            "19\n",
            "23\n",
            "29\n",
            "31\n",
            "37\n",
            "41\n",
            "43\n",
            "47\n"
          ]
        }
      ]
    },
    {
      "cell_type": "code",
      "source": [
        "#22. Write a function factorial(n) that takes a number as an argument and returns its factorial.\n",
        "def factorial(n):\n",
        "    fact=1\n",
        "    for i in range(1,n+1):\n",
        "        fact=fact*i\n",
        "    return fact\n",
        "factorial(5)"
      ],
      "metadata": {
        "colab": {
          "base_uri": "https://localhost:8080/"
        },
        "id": "czebFovQN2dc",
        "outputId": "989a2838-ae97-4bd4-8e7c-79f0281900e1"
      },
      "execution_count": 56,
      "outputs": [
        {
          "output_type": "execute_result",
          "data": {
            "text/plain": [
              "120"
            ]
          },
          "metadata": {},
          "execution_count": 56
        }
      ]
    },
    {
      "cell_type": "code",
      "source": [
        "#23. Write a function find_max(num_list) that takes a list of numbers as an argument and returns the maximum number in the list.\n",
        "def find_max(num_list):\n",
        "    return max(num_list)\n",
        "find_max([1,2,3,4,5])"
      ],
      "metadata": {
        "colab": {
          "base_uri": "https://localhost:8080/"
        },
        "id": "cJuLZog8N7az",
        "outputId": "ba44161a-aef8-42e0-ea22-dfb192faf3a6"
      },
      "execution_count": 57,
      "outputs": [
        {
          "output_type": "execute_result",
          "data": {
            "text/plain": [
              "5"
            ]
          },
          "metadata": {},
          "execution_count": 57
        }
      ]
    },
    {
      "cell_type": "code",
      "source": [
        "#24. Write a function is_prime(n) that takes a number as an argument and returns True if the number is a prime, otherwise False.\n",
        "def is_prime(n):\n",
        "    for i in range(2,n):\n",
        "        if n%i==0:\n",
        "            return False\n",
        "    else:\n",
        "        return True\n",
        "is_prime(5)"
      ],
      "metadata": {
        "colab": {
          "base_uri": "https://localhost:8080/"
        },
        "id": "rpiSrXr5OBuL",
        "outputId": "5004f8a7-b889-4e0c-b1b5-2251aaca8029"
      },
      "execution_count": 58,
      "outputs": [
        {
          "output_type": "execute_result",
          "data": {
            "text/plain": [
              "True"
            ]
          },
          "metadata": {},
          "execution_count": 58
        }
      ]
    },
    {
      "cell_type": "code",
      "source": [
        "#25. Write a function merge_lists(lst1, lst2) that takes two lists as arguments and returns a new list that contains all elements from both lists.\n",
        "def merge_lists(lst1,lst2):\n",
        "    return lst1+lst2\n",
        "merge_lists([1,2,3,4,5],[6,7,8,9,10])"
      ],
      "metadata": {
        "colab": {
          "base_uri": "https://localhost:8080/"
        },
        "id": "AQpyjbQ2OLUj",
        "outputId": "e9180fc4-0435-47ac-91d3-9f1fb1051db0"
      },
      "execution_count": 59,
      "outputs": [
        {
          "output_type": "execute_result",
          "data": {
            "text/plain": [
              "[1, 2, 3, 4, 5, 6, 7, 8, 9, 10]"
            ]
          },
          "metadata": {},
          "execution_count": 59
        }
      ]
    },
    {
      "cell_type": "code",
      "source": [
        "#26. Write a function common_elements(lst1, lst2) that takes two lists as arguments and returns a list of elements that are common to both lists.\n",
        "def common_elements(lst1,lst2):\n",
        "    return list(set(lst1).intersection(set(lst2)))\n",
        "common_elements([1,2,3,4,5],[3,4,5,6,7])"
      ],
      "metadata": {
        "colab": {
          "base_uri": "https://localhost:8080/"
        },
        "id": "eqwsXTkpOVac",
        "outputId": "da511635-f366-4dea-e6c6-a948b83ed1fa"
      },
      "execution_count": 60,
      "outputs": [
        {
          "output_type": "execute_result",
          "data": {
            "text/plain": [
              "[3, 4, 5]"
            ]
          },
          "metadata": {},
          "execution_count": 60
        }
      ]
    },
    {
      "cell_type": "code",
      "source": [
        "#27. Write a lambda function that takes a list of numbers as an argument and returns a new list containing only the even numbers.\n",
        "even=lambda x: [i for i in x if i%2==0]\n",
        "even([1,2,3,4,5,6,7,8,9,10])"
      ],
      "metadata": {
        "colab": {
          "base_uri": "https://localhost:8080/"
        },
        "id": "ogkzbUzmOfer",
        "outputId": "e99f44ee-7bce-472c-db22-afaae180b996"
      },
      "execution_count": 61,
      "outputs": [
        {
          "output_type": "execute_result",
          "data": {
            "text/plain": [
              "[2, 4, 6, 8, 10]"
            ]
          },
          "metadata": {},
          "execution_count": 61
        }
      ]
    },
    {
      "cell_type": "code",
      "source": [
        "#28. Write a lambda function that takes a number as an argument and returns True if the number is a prime number, otherwise False.\n",
        "prime=lambda x: True if len([i for i in range(2,x) if x%i==0])==0 else False\n",
        "prime(5)"
      ],
      "metadata": {
        "colab": {
          "base_uri": "https://localhost:8080/"
        },
        "id": "IpVzHSAXOntr",
        "outputId": "8b60f331-dcc0-4183-d433-549d65f62839"
      },
      "execution_count": 62,
      "outputs": [
        {
          "output_type": "execute_result",
          "data": {
            "text/plain": [
              "True"
            ]
          },
          "metadata": {},
          "execution_count": 62
        }
      ]
    },
    {
      "cell_type": "code",
      "source": [
        "#29. Write a lambda function that takes a list as an argument and returns the list reversed.\n",
        "reverse=lambda x: x[::-1]\n",
        "reverse([1,2,3,4,5])"
      ],
      "metadata": {
        "colab": {
          "base_uri": "https://localhost:8080/"
        },
        "id": "BZ5xlKtIOurz",
        "outputId": "6fe02156-7685-460d-ffbd-ac783287baf5"
      },
      "execution_count": 63,
      "outputs": [
        {
          "output_type": "execute_result",
          "data": {
            "text/plain": [
              "[5, 4, 3, 2, 1]"
            ]
          },
          "metadata": {},
          "execution_count": 63
        }
      ]
    },
    {
      "cell_type": "code",
      "source": [
        "#30. Write a lambda function that takes a number as an argument and returns its factorial.\n",
        "factorial=lambda x: 1 if x==0 else x*factorial(x-1)\n",
        "factorial(5)"
      ],
      "metadata": {
        "colab": {
          "base_uri": "https://localhost:8080/"
        },
        "id": "fwj-jwB_O0ib",
        "outputId": "7489e635-2858-456c-8880-d712998a7eb8"
      },
      "execution_count": 64,
      "outputs": [
        {
          "output_type": "execute_result",
          "data": {
            "text/plain": [
              "120"
            ]
          },
          "metadata": {},
          "execution_count": 64
        }
      ]
    },
    {
      "cell_type": "code",
      "source": [
        "#Write a Python function named classify_numbers that takes a list of integers as input and returns a dictionary with the counts of positive numbers, negative numbers, and zeros. The function should use a loop to iterate through the list and if-else statements to classify each number.\n",
        "def classify_numbers(lst):\n",
        "    positive=0\n",
        "    negative=0\n",
        "    zero=0\n",
        "    for i in lst:\n",
        "        if i>0:\n",
        "            positive+=1\n",
        "        elif i<0:\n",
        "            negative+=1\n",
        "        elif i==0:\n",
        "            zero+=1\n",
        "        else:\n",
        "            pass\n",
        "    return {\"Positive\":positive,\"Negative\":negative,\"Zero\":zero}\n",
        "\n",
        "classify_numbers([1,2,-3,0,5,-6,7,0,-9,10])"
      ],
      "metadata": {
        "colab": {
          "base_uri": "https://localhost:8080/"
        },
        "id": "gS8ZaE3HO4dD",
        "outputId": "753898c1-004c-4ff2-b4f0-e3af92e879b7"
      },
      "execution_count": 65,
      "outputs": [
        {
          "output_type": "execute_result",
          "data": {
            "text/plain": [
              "{'Positive': 5, 'Negative': 3, 'Zero': 2}"
            ]
          },
          "metadata": {},
          "execution_count": 65
        }
      ]
    },
    {
      "cell_type": "code",
      "source": [
        "#32. Write a function to calculate the grade distribution in a class.that is, Write a Python function named calculate_grade_distribution that takes a list of student scores (integers between 0 and 100) as input and returns a dictionary with the counts of each grade category.\n",
        "def calculate_grade_distribution(lst):\n",
        "    A=0\n",
        "    B=0\n",
        "    C=0\n",
        "    D=0\n",
        "    E=0\n",
        "    for i in lst:\n",
        "        if i>=90:\n",
        "            A+=1\n",
        "        elif i>=80:\n",
        "            B+=1\n",
        "        elif i>=70:\n",
        "            C+=1\n",
        "        elif i>=60:\n",
        "            D+=1\n",
        "        elif i<=59:\n",
        "            E+=1\n",
        "        else:\n",
        "            pass\n",
        "    return {\"A\":A,\"B\":B,\"C\":C,\"D\":D,\"E\":E}\n",
        "\n",
        "scores=[95,85,45,72,68,13,89,57,48,99,94,38]\n",
        "result=calculate_grade_distribution(scores)\n",
        "print(result)"
      ],
      "metadata": {
        "colab": {
          "base_uri": "https://localhost:8080/"
        },
        "id": "VeoaS9pjPtKj",
        "outputId": "7369005b-cb82-4407-eb84-ef197a0e494c"
      },
      "execution_count": 73,
      "outputs": [
        {
          "output_type": "stream",
          "name": "stdout",
          "text": [
            "{'A': 3, 'B': 2, 'C': 1, 'D': 1, 'E': 5}\n"
          ]
        }
      ]
    },
    {
      "cell_type": "code",
      "source": [],
      "metadata": {
        "id": "YXu2L7w_RW_k"
      },
      "execution_count": null,
      "outputs": []
    }
  ]
}