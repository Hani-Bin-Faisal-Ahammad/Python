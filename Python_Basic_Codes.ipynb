{
  "nbformat": 4,
  "nbformat_minor": 0,
  "metadata": {
    "colab": {
      "provenance": [],
      "authorship_tag": "ABX9TyNpkePzdfGvaZmWo71KuvMb",
      "include_colab_link": true
    },
    "kernelspec": {
      "name": "python3",
      "display_name": "Python 3"
    },
    "language_info": {
      "name": "python"
    }
  },
  "cells": [
    {
      "cell_type": "markdown",
      "metadata": {
        "id": "view-in-github",
        "colab_type": "text"
      },
      "source": [
        "<a href=\"https://colab.research.google.com/github/Hani-Bin-Faisal-Ahammad/Python/blob/main/Python_Basic_Codes.ipynb\" target=\"_parent\"><img src=\"https://colab.research.google.com/assets/colab-badge.svg\" alt=\"Open In Colab\"/></a>"
      ]
    },
    {
      "cell_type": "markdown",
      "source": [
        "# 1. Hello, World!"
      ],
      "metadata": {
        "id": "tmU-PCc_8YgY"
      }
    },
    {
      "cell_type": "code",
      "execution_count": 1,
      "metadata": {
        "colab": {
          "base_uri": "https://localhost:8080/"
        },
        "id": "TcS8ZYCd8O1E",
        "outputId": "80665c6a-b4e3-4a6f-9dde-8eaf8dbdf187"
      },
      "outputs": [
        {
          "output_type": "stream",
          "name": "stdout",
          "text": [
            "Hello, World!\n"
          ]
        }
      ],
      "source": [
        "print(\"Hello, World!\")"
      ]
    },
    {
      "cell_type": "markdown",
      "source": [
        "# 2. Variables and Data Types"
      ],
      "metadata": {
        "id": "eyGk2RW-8eNH"
      }
    },
    {
      "cell_type": "code",
      "source": [
        "# Integer\n",
        "x = 10\n",
        "\n",
        "# Float\n",
        "y = 3.14\n",
        "\n",
        "# String\n",
        "name = \"Alice\"\n",
        "\n",
        "# Boolean\n",
        "is_active = True\n",
        "\n",
        "# List\n",
        "fruits = [\"apple\", \"banana\", \"cherry\"]\n",
        "\n",
        "# Tuple\n",
        "coordinates = (10.5, 20.3)\n",
        "\n",
        "# Dictionary\n",
        "person = {\"name\": \"Alice\", \"age\": 25}\n"
      ],
      "metadata": {
        "id": "EJ9gMpUD8dvB"
      },
      "execution_count": 2,
      "outputs": []
    },
    {
      "cell_type": "markdown",
      "source": [
        "# 3. Basic Arithmetic Operations"
      ],
      "metadata": {
        "id": "RA-vd61v8tn3"
      }
    },
    {
      "cell_type": "code",
      "source": [
        "a = 10\n",
        "b = 5\n",
        "\n",
        "# Addition\n",
        "result = a + b\n",
        "print(result)  # Output: 15\n",
        "\n",
        "# Subtraction\n",
        "result = a - b\n",
        "print(result)  # Output: 5\n",
        "\n",
        "# Multiplication\n",
        "result = a * b\n",
        "print(result)  # Output: 50\n",
        "\n",
        "# Division\n",
        "result = a / b\n",
        "print(result)  # Output: 2.0\n",
        "\n",
        "# Integer Division\n",
        "result = a // b\n",
        "print(result)  # Output: 2\n",
        "\n",
        "# Modulus (Remainder)\n",
        "result = a % b\n",
        "print(result)  # Output: 0\n",
        "\n",
        "# Exponentiation\n",
        "result = a ** b\n",
        "print(result)  # Output: 100000\n"
      ],
      "metadata": {
        "colab": {
          "base_uri": "https://localhost:8080/"
        },
        "id": "ENNCoROe8n-H",
        "outputId": "3774f0fd-6c04-4005-c705-ff5ed6963e5a"
      },
      "execution_count": 3,
      "outputs": [
        {
          "output_type": "stream",
          "name": "stdout",
          "text": [
            "15\n",
            "5\n",
            "50\n",
            "2.0\n",
            "2\n",
            "0\n",
            "100000\n"
          ]
        }
      ]
    },
    {
      "cell_type": "markdown",
      "source": [
        "# 4. If-Else Statement"
      ],
      "metadata": {
        "id": "S7MmOgLf83EA"
      }
    },
    {
      "cell_type": "code",
      "source": [
        "age = 20\n",
        "if age >= 18:\n",
        "    print(\"Adult\")\n",
        "else:\n",
        "    print(\"Minor\")"
      ],
      "metadata": {
        "colab": {
          "base_uri": "https://localhost:8080/"
        },
        "id": "Y5GC4-we86E_",
        "outputId": "5b5edfce-edfd-4e7c-e79c-de87ba66cd02"
      },
      "execution_count": 5,
      "outputs": [
        {
          "output_type": "stream",
          "name": "stdout",
          "text": [
            "Adult\n"
          ]
        }
      ]
    },
    {
      "cell_type": "markdown",
      "source": [
        "# 5. For Loop"
      ],
      "metadata": {
        "id": "XPkqytL59ET4"
      }
    },
    {
      "cell_type": "code",
      "source": [
        "# Looping through a range\n",
        "for i in range(5):\n",
        "    print(i)  # Output: 0, 1, 2, 3, 4\n",
        "\n",
        "# Looping through a list\n",
        "fruits = [\"apple\", \"banana\", \"cherry\"]\n",
        "for fruit in fruits:\n",
        "    print(fruit)  # Output: apple, banana, cherry\n"
      ],
      "metadata": {
        "colab": {
          "base_uri": "https://localhost:8080/"
        },
        "id": "THPvJceM89tw",
        "outputId": "63fe6906-cc3a-4500-ec15-406e12dac131"
      },
      "execution_count": 6,
      "outputs": [
        {
          "output_type": "stream",
          "name": "stdout",
          "text": [
            "0\n",
            "1\n",
            "2\n",
            "3\n",
            "4\n",
            "apple\n",
            "banana\n",
            "cherry\n"
          ]
        }
      ]
    },
    {
      "cell_type": "markdown",
      "source": [
        "# 6. While Loop"
      ],
      "metadata": {
        "id": "ygNvGzhu9J7Q"
      }
    },
    {
      "cell_type": "code",
      "source": [
        "count = 0\n",
        "while count < 5:\n",
        "    print(count)\n",
        "    count += 1  # Output: 0, 1, 2, 3, 4"
      ],
      "metadata": {
        "colab": {
          "base_uri": "https://localhost:8080/"
        },
        "id": "POPhbjoU9IMv",
        "outputId": "a64b8906-e84a-47e1-e189-8c9a3d0c8670"
      },
      "execution_count": 7,
      "outputs": [
        {
          "output_type": "stream",
          "name": "stdout",
          "text": [
            "0\n",
            "1\n",
            "2\n",
            "3\n",
            "4\n"
          ]
        }
      ]
    },
    {
      "cell_type": "markdown",
      "source": [
        "# 7. Functions"
      ],
      "metadata": {
        "id": "7m_4X3cF9Xmw"
      }
    },
    {
      "cell_type": "code",
      "source": [
        "def greet(name):\n",
        "    return f\"Hello, {name}!\"\n",
        "\n",
        "message = greet(\"Alice\")\n",
        "print(message)  # Output: Hello, Alice!"
      ],
      "metadata": {
        "colab": {
          "base_uri": "https://localhost:8080/"
        },
        "id": "6dml6Gp_9XKg",
        "outputId": "77230636-5b5b-4b5a-89b9-d461b3b65911"
      },
      "execution_count": 8,
      "outputs": [
        {
          "output_type": "stream",
          "name": "stdout",
          "text": [
            "Hello, Alice!\n"
          ]
        }
      ]
    },
    {
      "cell_type": "markdown",
      "source": [
        "# 8. Lambda Function"
      ],
      "metadata": {
        "id": "mtetfjw19lTo"
      }
    },
    {
      "cell_type": "code",
      "source": [
        "# Lambda function to add two numbers\n",
        "add = lambda x, y: x + y\n",
        "print(add(3, 5))  # Output: 8"
      ],
      "metadata": {
        "colab": {
          "base_uri": "https://localhost:8080/"
        },
        "id": "cNQIUSxa9Q7n",
        "outputId": "82803066-ec8e-4a85-a38d-d330c9ecc2af"
      },
      "execution_count": 9,
      "outputs": [
        {
          "output_type": "stream",
          "name": "stdout",
          "text": [
            "8\n"
          ]
        }
      ]
    },
    {
      "cell_type": "markdown",
      "source": [
        "# 9. List Comprehension"
      ],
      "metadata": {
        "id": "mti3y1DJ9qAg"
      }
    },
    {
      "cell_type": "code",
      "source": [
        "# Create a list of squares of numbers from 0 to 4\n",
        "squares = [x**2 for x in range(5)]\n",
        "print(squares)  # Output: [0, 1, 4, 9, 16]"
      ],
      "metadata": {
        "colab": {
          "base_uri": "https://localhost:8080/"
        },
        "id": "ae6l0eTM9o_v",
        "outputId": "f9b83ae0-f8bf-4de2-9dda-3722d14c6831"
      },
      "execution_count": 10,
      "outputs": [
        {
          "output_type": "stream",
          "name": "stdout",
          "text": [
            "[0, 1, 4, 9, 16]\n"
          ]
        }
      ]
    },
    {
      "cell_type": "markdown",
      "source": [
        "# 10. Handling Exceptions"
      ],
      "metadata": {
        "id": "ciLzy7x090M_"
      }
    },
    {
      "cell_type": "code",
      "source": [
        "try:\n",
        "    number = int(input(\"Enter a number: \"))\n",
        "    print(\"You entered:\", number)\n",
        "except ValueError:\n",
        "    print(\"Oops! That's not a valid number.\")"
      ],
      "metadata": {
        "colab": {
          "base_uri": "https://localhost:8080/"
        },
        "id": "fUr1n6Vo9zQY",
        "outputId": "fa756b17-0050-4153-a8e0-c9c027acbb6e"
      },
      "execution_count": 12,
      "outputs": [
        {
          "output_type": "stream",
          "name": "stdout",
          "text": [
            "Enter a number: 6.3\n",
            "Oops! That's not a valid number.\n"
          ]
        }
      ]
    },
    {
      "cell_type": "markdown",
      "source": [
        "# 11. Reading from a File"
      ],
      "metadata": {
        "id": "PApGeCKw-Iuo"
      }
    },
    {
      "cell_type": "code",
      "source": [
        "# Read from a file\n",
        "with open(\"example.txt\", \"r\") as file:\n",
        "    content = file.read()\n",
        "    print(content)"
      ],
      "metadata": {
        "colab": {
          "base_uri": "https://localhost:8080/",
          "height": 193
        },
        "collapsed": true,
        "id": "3tiC_xXC-Cq4",
        "outputId": "996f690e-1c17-458f-b081-ea7da3b340eb"
      },
      "execution_count": 15,
      "outputs": [
        {
          "output_type": "error",
          "ename": "FileNotFoundError",
          "evalue": "[Errno 2] No such file or directory: 'example.txt'",
          "traceback": [
            "\u001b[0;31m---------------------------------------------------------------------------\u001b[0m",
            "\u001b[0;31mFileNotFoundError\u001b[0m                         Traceback (most recent call last)",
            "\u001b[0;32m<ipython-input-15-e66b3d32bdee>\u001b[0m in \u001b[0;36m<cell line: 2>\u001b[0;34m()\u001b[0m\n\u001b[1;32m      1\u001b[0m \u001b[0;31m# Read from a file\u001b[0m\u001b[0;34m\u001b[0m\u001b[0;34m\u001b[0m\u001b[0m\n\u001b[0;32m----> 2\u001b[0;31m \u001b[0;32mwith\u001b[0m \u001b[0mopen\u001b[0m\u001b[0;34m(\u001b[0m\u001b[0;34m\"example.txt\"\u001b[0m\u001b[0;34m,\u001b[0m \u001b[0;34m\"r\"\u001b[0m\u001b[0;34m)\u001b[0m \u001b[0;32mas\u001b[0m \u001b[0mfile\u001b[0m\u001b[0;34m:\u001b[0m\u001b[0;34m\u001b[0m\u001b[0;34m\u001b[0m\u001b[0m\n\u001b[0m\u001b[1;32m      3\u001b[0m     \u001b[0mcontent\u001b[0m \u001b[0;34m=\u001b[0m \u001b[0mfile\u001b[0m\u001b[0;34m.\u001b[0m\u001b[0mread\u001b[0m\u001b[0;34m(\u001b[0m\u001b[0;34m)\u001b[0m\u001b[0;34m\u001b[0m\u001b[0;34m\u001b[0m\u001b[0m\n\u001b[1;32m      4\u001b[0m     \u001b[0mprint\u001b[0m\u001b[0;34m(\u001b[0m\u001b[0mcontent\u001b[0m\u001b[0;34m)\u001b[0m\u001b[0;34m\u001b[0m\u001b[0;34m\u001b[0m\u001b[0m\n",
            "\u001b[0;31mFileNotFoundError\u001b[0m: [Errno 2] No such file or directory: 'example.txt'"
          ]
        }
      ]
    },
    {
      "cell_type": "markdown",
      "source": [
        "# 12. Writing to a File"
      ],
      "metadata": {
        "id": "R28-ErVb-neo"
      }
    },
    {
      "cell_type": "code",
      "source": [
        "# Write to a file\n",
        "with open(\"example.txt\", \"w\") as file:\n",
        "    file.write(\"Hello, this is a test file!\")"
      ],
      "metadata": {
        "id": "p8I0qZLX-Rg4"
      },
      "execution_count": null,
      "outputs": []
    },
    {
      "cell_type": "markdown",
      "source": [
        "# 13. Classes and Objects"
      ],
      "metadata": {
        "id": "U8hG98eU-5Ww"
      }
    },
    {
      "cell_type": "code",
      "source": [
        "class Dog:\n",
        "    def __init__(self, name, age):\n",
        "        self.name = name\n",
        "        self.age = age\n",
        "\n",
        "    def bark(self):\n",
        "        print(f\"{self.name} is barking!\")\n",
        "\n",
        "# Creating an object\n",
        "dog1 = Dog(\"Rex\", 3)\n",
        "dog1.bark()  # Output: Rex is barking!"
      ],
      "metadata": {
        "colab": {
          "base_uri": "https://localhost:8080/"
        },
        "id": "lSYcvhxb_Ixo",
        "outputId": "42f09d52-f071-43f1-9ceb-f5c0863a9684"
      },
      "execution_count": 16,
      "outputs": [
        {
          "output_type": "stream",
          "name": "stdout",
          "text": [
            "Rex is barking!\n"
          ]
        }
      ]
    },
    {
      "cell_type": "markdown",
      "source": [
        "# 14. Importing Modules"
      ],
      "metadata": {
        "id": "w11ooanI_P_g"
      }
    },
    {
      "cell_type": "code",
      "source": [
        "# Importing a standard library module\n",
        "import math\n",
        "\n",
        "# Using math module functions\n",
        "print(math.sqrt(16))  # Output: 4.0"
      ],
      "metadata": {
        "colab": {
          "base_uri": "https://localhost:8080/"
        },
        "id": "FSI9XCox_IW0",
        "outputId": "cc80aaff-40b2-4728-a4a8-74f7b34790e2"
      },
      "execution_count": 17,
      "outputs": [
        {
          "output_type": "stream",
          "name": "stdout",
          "text": [
            "4.0\n"
          ]
        }
      ]
    },
    {
      "cell_type": "markdown",
      "source": [
        "# 15. Dictionaries"
      ],
      "metadata": {
        "id": "xuFNOvQu_Vao"
      }
    },
    {
      "cell_type": "code",
      "source": [
        "# Creating a dictionary\n",
        "person = {\"name\": \"John\", \"age\": 30, \"city\": \"New York\"}\n",
        "\n",
        "# Accessing dictionary values\n",
        "print(person[\"name\"])  # Output: John\n",
        "\n",
        "# Adding a new key-value pair\n",
        "person[\"job\"] = \"Engineer\"\n",
        "\n",
        "# Iterating through a dictionary\n",
        "for key, value in person.items():\n",
        "    print(key, value)\n"
      ],
      "metadata": {
        "colab": {
          "base_uri": "https://localhost:8080/"
        },
        "id": "CLfDMTTY_e3P",
        "outputId": "1b00325c-87af-4f0c-d312-6e781b1de2c4"
      },
      "execution_count": 18,
      "outputs": [
        {
          "output_type": "stream",
          "name": "stdout",
          "text": [
            "John\n",
            "name John\n",
            "age 30\n",
            "city New York\n",
            "job Engineer\n"
          ]
        }
      ]
    },
    {
      "cell_type": "markdown",
      "source": [
        "# 16. Enumerate (for loop with index)"
      ],
      "metadata": {
        "id": "y0cElaSo_lAJ"
      }
    },
    {
      "cell_type": "code",
      "source": [
        "fruits = [\"apple\", \"banana\", \"cherry\"]\n",
        "for index, fruit in enumerate(fruits):\n",
        "    print(f\"{index}: {fruit}\")"
      ],
      "metadata": {
        "colab": {
          "base_uri": "https://localhost:8080/"
        },
        "id": "WDYCPyQs_hVK",
        "outputId": "5ec44617-a583-4212-be2f-ee0d3fcaba18"
      },
      "execution_count": 19,
      "outputs": [
        {
          "output_type": "stream",
          "name": "stdout",
          "text": [
            "0: apple\n",
            "1: banana\n",
            "2: cherry\n"
          ]
        }
      ]
    },
    {
      "cell_type": "markdown",
      "source": [
        "# 17. Zip (Combine Lists)"
      ],
      "metadata": {
        "id": "ofHgAW1P_v2Q"
      }
    },
    {
      "cell_type": "code",
      "source": [
        "names = [\"Alice\", \"Bob\", \"Charlie\"]\n",
        "ages = [25, 30, 35]\n",
        "\n",
        "# Zipping two lists together\n",
        "for name, age in zip(names, ages):\n",
        "    print(f\"{name} is {age} years old.\")"
      ],
      "metadata": {
        "colab": {
          "base_uri": "https://localhost:8080/"
        },
        "id": "F9A4Yz4d_xUn",
        "outputId": "7259e22b-c451-486d-d46c-3de1c1cc2644"
      },
      "execution_count": 20,
      "outputs": [
        {
          "output_type": "stream",
          "name": "stdout",
          "text": [
            "Alice is 25 years old.\n",
            "Bob is 30 years old.\n",
            "Charlie is 35 years old.\n"
          ]
        }
      ]
    },
    {
      "cell_type": "markdown",
      "source": [
        "#18. Using break and continue"
      ],
      "metadata": {
        "id": "6kpeiAel_7B4"
      }
    },
    {
      "cell_type": "code",
      "source": [
        "# Break: Exits the loop\n",
        "for i in range(5):\n",
        "    if i == 3:\n",
        "        break\n",
        "    print(i)  # Output: 0, 1, 2\n",
        "\n",
        "# Continue: Skips the current iteration and moves to the next one\n",
        "for i in range(5):\n",
        "    if i == 3:\n",
        "        continue\n",
        "    print(i)  # Output: 0, 1, 2, 4"
      ],
      "metadata": {
        "colab": {
          "base_uri": "https://localhost:8080/"
        },
        "collapsed": true,
        "id": "6lZUAfZ4_z5Q",
        "outputId": "7349e626-b83a-4c15-ff0d-f4cbacb3b110"
      },
      "execution_count": 21,
      "outputs": [
        {
          "output_type": "stream",
          "name": "stdout",
          "text": [
            "0\n",
            "1\n",
            "2\n",
            "0\n",
            "1\n",
            "2\n",
            "4\n"
          ]
        }
      ]
    }
  ]
}